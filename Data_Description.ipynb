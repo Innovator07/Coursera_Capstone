{
  "nbformat": 4,
  "nbformat_minor": 0,
  "metadata": {
    "colab": {
      "name": "Data Description.ipynb",
      "provenance": [],
      "collapsed_sections": [],
      "authorship_tag": "ABX9TyMqK+qwCwcr5mU/M5Fb95e2",
      "include_colab_link": true
    },
    "kernelspec": {
      "name": "python3",
      "display_name": "Python 3"
    }
  },
  "cells": [
    {
      "cell_type": "markdown",
      "metadata": {
        "id": "view-in-github",
        "colab_type": "text"
      },
      "source": [
        "<a href=\"https://colab.research.google.com/github/Innovator07/Coursera_Capstone/blob/master/Data_Description.ipynb\" target=\"_parent\"><img src=\"https://colab.research.google.com/assets/colab-badge.svg\" alt=\"Open In Colab\"/></a>"
      ]
    },
    {
      "cell_type": "markdown",
      "metadata": {
        "id": "fv7kgkdbuI-W",
        "colab_type": "text"
      },
      "source": [
        "**The Battle of Neighborhoods | Data Description**\n",
        "\n",
        "\n",
        "\n",
        "\n",
        "\n",
        "Data Description:\n",
        "Data Link: https://en.wikipedia.org/wiki/List_of_postal_codes_of_Canada:_M\n",
        "\n",
        "We will use Scraborough dataset which we have scrapped from wikipedia. our dataset is constitng of Laatituted, Longitiude and Postal Zip Codes."
      ]
    },
    {
      "cell_type": "markdown",
      "metadata": {
        "id": "EZNIbLCEvFTF",
        "colab_type": "text"
      },
      "source": [
        "**Foursquare API Data:**\n",
        "\n",
        "\n",
        "\n",
        "\n",
        "\n",
        "\n",
        "\n",
        "\n",
        "\n",
        "\n",
        "\n",
        "\n",
        "We will need data about different venues in different neighborhoods of that specific borough. In order to gain that information we will use \"Foursquare\" locational information. Foursquare is a location data provider with information about all manner of venues and events within an area of interest. Such information includes venue names, locations, menus and even photos. As such, the foursquare location platform will be used as the sole data source since all the stated required information can be obtained through the API.\n",
        "\n",
        "After finding the list of neighborhoods, we then connect to the Foursquare API to gather information about venues inside each and every neighborhood. For each neighborhood, we have chosen the radius to be 100 meter.\n",
        "\n",
        "The data retrieved from Foursquare contained information of venues within a specified distance of the longitude and latitude of the postcodes. The information obtained per venue as follows:\n",
        "\n",
        "1. Neighborhood\n",
        "2. Neighborhood Latitude\n",
        "3. Neighborhood Longitude\n",
        "4. Venue\n",
        "5. Name of the venue e.g. the name of a store or restaurant\n",
        "6. Venue Latitude\n",
        "7. Venue Longitude\n",
        "8. Venue Category\n"
      ]
    },
    {
      "cell_type": "code",
      "metadata": {
        "id": "P-dOkIS1vOKM",
        "colab_type": "code",
        "colab": {}
      },
      "source": [
        ""
      ],
      "execution_count": null,
      "outputs": []
    }
  ]
}